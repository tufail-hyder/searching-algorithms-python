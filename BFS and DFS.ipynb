{
 "cells": [
  {
   "cell_type": "markdown",
   "id": "b93bf45a-0e92-4aef-9ed9-8533f9021442",
   "metadata": {},
   "source": [
    "# <center><u> **MID TERM LAB** </u></center>\n",
    "\n",
    "## **TUFAIL HAIDER**\n",
    "## **FA22-BCS-014**"
   ]
  },
  {
   "cell_type": "markdown",
   "id": "91e482cb-76e5-4533-9eba-1d962c1fb5da",
   "metadata": {},
   "source": [
    "## **Q1. Write the code of the following programs in Python language**\n"
   ]
  },
  {
   "cell_type": "code",
   "execution_count": 2,
   "id": "d13bd4eb-7772-4ba0-9c50-79f69f71ea44",
   "metadata": {},
   "outputs": [
    {
     "name": "stdin",
     "output_type": "stream",
     "text": [
      "Select Any One (BFS or DFS):  gfh\n"
     ]
    },
    {
     "name": "stdout",
     "output_type": "stream",
     "text": [
      "Invalid input, please enter BFS or DFS.\n"
     ]
    },
    {
     "name": "stdin",
     "output_type": "stream",
     "text": [
      "Select Any One (BFS or DFS):  BFS\n",
      "Enter the Goal Node:  21\n"
     ]
    },
    {
     "name": "stdout",
     "output_type": "stream",
     "text": [
      "Invalid, goal node not found in the graph. Please enter a valid node.\n"
     ]
    },
    {
     "name": "stdin",
     "output_type": "stream",
     "text": [
      "Enter the Goal Node:  57\n"
     ]
    },
    {
     "name": "stdout",
     "output_type": "stream",
     "text": [
      "Visited nodes are: ['22', '7', '50', '1', '10', '25', '56', '8', '20', '58', '57']\n"
     ]
    }
   ],
   "source": [
    "from collections import deque\n",
    "\n",
    "graph = {\n",
    "    '22': ['7', '50'],\n",
    "    '7': ['1', '10'],\n",
    "    '50': ['25', '56'],\n",
    "    '1': [],\n",
    "    '10': ['8', '20'],\n",
    "    '25': ['58'],\n",
    "    '56': [],\n",
    "    '8': [],\n",
    "    '20': [],\n",
    "    '58': ['57', '100'],\n",
    "    '57': ['77'],\n",
    "    '100': [],\n",
    "    '77': []\n",
    "}\n",
    "\n",
    "def bfs(start, goal):\n",
    "    visited = []\n",
    "    queue = deque([start])\n",
    "\n",
    "    while queue:\n",
    "        node = queue.popleft()\n",
    "        if node not in visited:\n",
    "            visited.append(node)\n",
    "            if node == goal:\n",
    "                break\n",
    "            queue.extend(graph[node])\n",
    "    return visited\n",
    "\n",
    "def dfs(start, goal):\n",
    "    visited = []\n",
    "    stack = [start]\n",
    "\n",
    "    while stack:\n",
    "        node = stack.pop()\n",
    "        if node not in visited:\n",
    "            visited.append(node)\n",
    "            if node == goal:\n",
    "                break\n",
    "            stack.extend(reversed(graph[node]))\n",
    "    return visited\n",
    "\n",
    "def main():\n",
    "    while True:\n",
    "        select = input('Select Any One (BFS or DFS): ').strip().upper()\n",
    "        if select in ['BFS', 'DFS']:\n",
    "            break\n",
    "        print('Invalid input, please enter BFS or DFS.')\n",
    "\n",
    "    while True:\n",
    "        goal = input('Enter the Goal Node: ').strip()\n",
    "        if goal in graph:\n",
    "            break\n",
    "        print('Invalid, goal node not found in the graph. Please enter a valid node.')\n",
    "\n",
    "    if select == 'BFS':\n",
    "        visited_nodes = bfs('22', goal)\n",
    "    else:\n",
    "        visited_nodes = dfs('22', goal)\n",
    "\n",
    "    print('Visited nodes are:', visited_nodes)\n",
    "\n",
    "main()\n"
   ]
  },
  {
   "cell_type": "code",
   "execution_count": null,
   "id": "01d87e3e-ccda-4077-aae7-386fb1b27f5d",
   "metadata": {},
   "outputs": [],
   "source": []
  }
 ],
 "metadata": {
  "kernelspec": {
   "display_name": "Python 3 (ipykernel)",
   "language": "python",
   "name": "python3"
  },
  "language_info": {
   "codemirror_mode": {
    "name": "ipython",
    "version": 3
   },
   "file_extension": ".py",
   "mimetype": "text/x-python",
   "name": "python",
   "nbconvert_exporter": "python",
   "pygments_lexer": "ipython3",
   "version": "3.12.7"
  }
 },
 "nbformat": 4,
 "nbformat_minor": 5
}
