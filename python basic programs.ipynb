{
 "cells": [
  {
   "cell_type": "markdown",
   "id": "456125ad-6f99-4bd8-a748-ff26d66c93ed",
   "metadata": {},
   "source": [
    "# <center> <u>  **LAB TASK # 01** </center>  </u>\n",
    "### **NAME: TUFAIL HAIDER**  \n",
    "### **REG NO: FA22-BCS-014** "
   ]
  },
  {
   "cell_type": "markdown",
   "id": "44c32d20-7bbe-4375-9b9d-32a8164e0585",
   "metadata": {},
   "source": [
    "**1. Write a program that prints \"Welcome to Programming!\" to the console.**"
   ]
  },
  {
   "cell_type": "code",
   "execution_count": 1,
   "id": "34463c51-db08-412a-b664-9234391c9bdb",
   "metadata": {},
   "outputs": [
    {
     "name": "stdout",
     "output_type": "stream",
     "text": [
      "Welcome to Programming!\n"
     ]
    }
   ],
   "source": [
    "print(\"Welcome to Programming!\")"
   ]
  },
  {
   "cell_type": "markdown",
   "id": "7394542b-7004-4b9f-9805-76fb0a15da40",
   "metadata": {},
   "source": [
    "**2. Write a program that takes two numbers as input and outputs their sum, difference, product, and quotient.**"
   ]
  },
  {
   "cell_type": "code",
   "execution_count": 3,
   "id": "e997ce7f-ed2c-4c42-aeee-46ce068709c8",
   "metadata": {},
   "outputs": [
    {
     "name": "stdin",
     "output_type": "stream",
     "text": [
      "Enter first number:  5\n",
      "Enter second number:  2\n"
     ]
    },
    {
     "name": "stdout",
     "output_type": "stream",
     "text": [
      "Sum: 7.0\n",
      "Difference: 3.0\n",
      "Product: 10.0\n",
      "Quotient: 2.5\n"
     ]
    }
   ],
   "source": [
    "a = float(input(\"Enter first number: \"))\n",
    "b = float(input(\"Enter second number: \"))\n",
    "print(f\"Sum: {a + b}\")\n",
    "print(f\"Difference: {a - b}\")\n",
    "print(f\"Product: {a * b}\")\n",
    "print(f\"Quotient: {a / b}\" )"
   ]
  },
  {
   "cell_type": "markdown",
   "id": "8ee73e4b-55dd-497a-a634-0634e500b648",
   "metadata": {},
   "source": [
    "**3. Write a program that checks if a given number is even or odd.**"
   ]
  },
  {
   "cell_type": "code",
   "execution_count": 9,
   "id": "986a00b2-3ba5-4324-a850-c4d741bc1b01",
   "metadata": {},
   "outputs": [
    {
     "name": "stdin",
     "output_type": "stream",
     "text": [
      "Enter a number:  3\n"
     ]
    },
    {
     "name": "stdout",
     "output_type": "stream",
     "text": [
      "Number is Odd\n"
     ]
    }
   ],
   "source": [
    "num = int(input(\"Enter a number: \"))\n",
    "if num%2==0:\n",
    "    print(\"Number is Even\")\n",
    "else:\n",
    "    print(\"Number is Odd\")\n"
   ]
  },
  {
   "cell_type": "markdown",
   "id": "f7b7751e-e089-46cf-b009-4abdc0b8d2b1",
   "metadata": {},
   "source": [
    "**4. Write a program that takes three numbers as input and outputs the largest number.**"
   ]
  },
  {
   "cell_type": "code",
   "execution_count": 18,
   "id": "a1700826-b1ab-4b4d-8794-98340a130b28",
   "metadata": {},
   "outputs": [
    {
     "name": "stdin",
     "output_type": "stream",
     "text": [
      "Enter first number:  4\n",
      "Enter second number:  9\n",
      "Enter third number:  1\n"
     ]
    },
    {
     "name": "stdout",
     "output_type": "stream",
     "text": [
      "Y is the largest\n"
     ]
    }
   ],
   "source": [
    "x = float(input(\"Enter first number: \"))\n",
    "y = float(input(\"Enter second number: \"))\n",
    "z = float(input(\"Enter third number: \"))\n",
    "\n",
    "if x == y == z:\n",
    "    print(\"All numbers are equal\")\n",
    "elif x > y and x > z:\n",
    "    print(\"X is the largest\")\n",
    "elif y > x and y > z:\n",
    "    print(\"Y is the largest\")\n",
    "elif z > x and z > y:\n",
    "    print(\"Z is the largest\")\n",
    "elif x == y and x > z:\n",
    "    print(\"X and Y are the largest\")\n",
    "elif x == z and x > y:\n",
    "    print(\"X and Z are the largest\")\n",
    "elif y == z and y > x:\n",
    "    print(\"Y and Z are the largest\")\n",
    "\n"
   ]
  },
  {
   "cell_type": "markdown",
   "id": "b52f9541-8309-4a9d-ba93-716a777afc10",
   "metadata": {},
   "source": [
    "**5. Write a program to swap the values of two variables without using a third variable.**"
   ]
  },
  {
   "cell_type": "code",
   "execution_count": 19,
   "id": "0fe61140-b1bf-472c-9c7c-3490c0dcac94",
   "metadata": {},
   "outputs": [
    {
     "name": "stdin",
     "output_type": "stream",
     "text": [
      "Enter first number:  4\n",
      "Enter second number:  8\n"
     ]
    },
    {
     "name": "stdout",
     "output_type": "stream",
     "text": [
      "Before swapping: x = 4.0, y = 8.0\n",
      "After swapping: x = 8.0, y = 4.0\n"
     ]
    }
   ],
   "source": [
    "x = float(input(\"Enter first number: \"))\n",
    "y = float(input(\"Enter second number: \"))\n",
    "print(f\"Before swapping: x = {x}, y = {y}\")\n",
    "temp = x\n",
    "x = y\n",
    "y = temp\n",
    "print(f\"After swapping: x = {x}, y = {y}\")\n"
   ]
  },
  {
   "cell_type": "markdown",
   "id": "d78e726e-afc5-4a85-971d-a3cc80667478",
   "metadata": {},
   "source": [
    "**6. Write a program to calculate the simple interest using the formula SI = (P * R * T) / 100, where P is the principal, R is the rate of interest, and T is the time period.**"
   ]
  },
  {
   "cell_type": "code",
   "execution_count": 20,
   "id": "7adc4772-f1f3-429c-b02e-94b44ef89511",
   "metadata": {},
   "outputs": [
    {
     "name": "stdin",
     "output_type": "stream",
     "text": [
      "Enter principal amount:  2\n",
      "Enter rate of interest:  5\n",
      "Enter time period in years:  1\n"
     ]
    },
    {
     "name": "stdout",
     "output_type": "stream",
     "text": [
      "Simple Interest: 0.1\n"
     ]
    }
   ],
   "source": [
    "P = float(input(\"Enter principal amount: \"))\n",
    "R = float(input(\"Enter rate of interest: \"))\n",
    "T = float(input(\"Enter time period in years: \"))\n",
    "SI = (P * R * T) / 100\n",
    "print(f\"Simple Interest: {SI}\")"
   ]
  },
  {
   "cell_type": "markdown",
   "id": "78352b78-b3bb-490d-aafa-669aa9987143",
   "metadata": {},
   "source": [
    "**7. Write a program that prompts the user to enter number of years. Calculate the number of seconds a person can live. Assume a person can live eighty years.**"
   ]
  },
  {
   "cell_type": "code",
   "execution_count": 22,
   "id": "5e7c1e18-99f3-437e-af07-772058a6f914",
   "metadata": {},
   "outputs": [
    {
     "name": "stdin",
     "output_type": "stream",
     "text": [
      "Enter the number of years:  5\n"
     ]
    },
    {
     "name": "stdout",
     "output_type": "stream",
     "text": [
      "A person can live approximately 157680000 seconds in 5 years.\n"
     ]
    }
   ],
   "source": [
    "years = int(input(\"Enter the number of years: \"))\n",
    "seconds = years * 365 * 24 * 60 * 60  # Convert years to seconds\n",
    "print(f\"A person can live approximately {seconds} seconds in {years} years.\")\n"
   ]
  },
  {
   "cell_type": "markdown",
   "id": "56306c68-4524-435a-a91a-36c2beb45560",
   "metadata": {},
   "source": [
    "**8. Write a program that checks if a given year is a leap year or not.**"
   ]
  },
  {
   "cell_type": "code",
   "execution_count": 24,
   "id": "277a94db-5997-40f1-8ed9-2dd729550ef7",
   "metadata": {},
   "outputs": [
    {
     "name": "stdin",
     "output_type": "stream",
     "text": [
      "Enter a year:  2025\n"
     ]
    },
    {
     "name": "stdout",
     "output_type": "stream",
     "text": [
      "Not a Leap Year\n"
     ]
    }
   ],
   "source": [
    "year = int(input(\"Enter a year: \"))\n",
    "if (year % 4 == 0 and year % 100 != 0) or (year % 400 == 0):\n",
    "    print(\"Leap Year\")\n",
    "else:\n",
    "    print(\"Not a Leap Year\")\n"
   ]
  },
  {
   "cell_type": "markdown",
   "id": "ad60efa0-160a-403f-b956-6fe2a5d545d2",
   "metadata": {},
   "source": [
    "**9. Write a code which gives grade to students according to theirs scores:\n",
    "• 80-100, Grade A\n",
    "• 70-89, Grade B\n",
    "• 60-69, Grade C\n",
    "• 50-59, Grade D\n",
    "• 0-49, Grade F**"
   ]
  },
  {
   "cell_type": "code",
   "execution_count": 28,
   "id": "3c41bace-10d8-4d94-8dc6-b290f26f425e",
   "metadata": {},
   "outputs": [
    {
     "name": "stdin",
     "output_type": "stream",
     "text": [
      "Enter your score:  79\n"
     ]
    },
    {
     "name": "stdout",
     "output_type": "stream",
     "text": [
      "Your grade is: B\n"
     ]
    }
   ],
   "source": [
    "score = int(input(\"Enter your score: \"))\n",
    "if score<=100 and score >= 80:\n",
    "    grade = \"A\"\n",
    "elif score<=79 and score >= 70:\n",
    "    grade = \"B\"\n",
    "elif score<=69 and score >= 60:\n",
    "    grade = \"C\"\n",
    "elif score<=59 and score >= 50:\n",
    "    grade = \"D\"\n",
    "else:\n",
    "    grade = \"F\"\n",
    "print(f\"Your grade is: {grade}\")\n"
   ]
  },
  {
   "cell_type": "markdown",
   "id": "2dcc7309-6797-4022-900b-6be7b32149de",
   "metadata": {},
   "source": [
    "**10. Check if the season is Autumn, Winter, Spring or Summer. If the user input is:\n",
    "September, October or November, the season is Autumn. December, January or\n",
    "February, the season is Winter. March, April or May, the season is Spring June, July or\n",
    "August, the season is Summer.**"
   ]
  },
  {
   "cell_type": "code",
   "execution_count": 31,
   "id": "f0386281-e457-4496-8bae-974033a26a46",
   "metadata": {},
   "outputs": [
    {
     "name": "stdin",
     "output_type": "stream",
     "text": [
      "Enter the month:  June\n"
     ]
    },
    {
     "name": "stdout",
     "output_type": "stream",
     "text": [
      "The season is: Summer\n"
     ]
    }
   ],
   "source": [
    "month = input(\"Enter the month: \")\n",
    "if month in [\"September\", \"October\", \"November\"]:\n",
    "    season = \"Autumn\"\n",
    "elif month in [\"December\", \"January\", \"February\"]:\n",
    "    season = \"Winter\"\n",
    "elif month in [\"March\", \"April\", \"May\"]:\n",
    "    season = \"Spring\"\n",
    "elif month in [\"June\", \"July\", \"August\"]:\n",
    "    season = \"Summer\"\n",
    "else:\n",
    "    season = \"Invalid month entered\"\n",
    "print(f\"The season is: {season}\")"
   ]
  },
  {
   "cell_type": "code",
   "execution_count": null,
   "id": "341bcbe6-1025-4772-82c5-991c9561babe",
   "metadata": {},
   "outputs": [],
   "source": []
  }
 ],
 "metadata": {
  "kernelspec": {
   "display_name": "Python 3 (ipykernel)",
   "language": "python",
   "name": "python3"
  },
  "language_info": {
   "codemirror_mode": {
    "name": "ipython",
    "version": 3
   },
   "file_extension": ".py",
   "mimetype": "text/x-python",
   "name": "python",
   "nbconvert_exporter": "python",
   "pygments_lexer": "ipython3",
   "version": "3.12.7"
  }
 },
 "nbformat": 4,
 "nbformat_minor": 5
}
